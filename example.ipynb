{
 "cells": [
  {
   "cell_type": "code",
   "execution_count": 1,
   "metadata": {},
   "outputs": [],
   "source": [
    "%load_ext autoreload\n",
    "%autoreload 2\n",
    "\n",
    "import numpy as np\n",
    "import matplotlib.pyplot as plt\n",
    "\n",
    "from autograd.tensor import Tensor\n",
    "from autograd import nn\n",
    "from autograd.optim import SGD\n",
    "\n",
    "from sklearn.datasets import load_boston, load_iris"
   ]
  },
  {
   "cell_type": "code",
   "execution_count": 2,
   "metadata": {},
   "outputs": [],
   "source": [
    "class Regressor(nn.Module):\n",
    "    def __init__(self,\n",
    "                 in_features: int) -> None:\n",
    "        super().__init__()\n",
    "\n",
    "        self.l1 = nn.Linear(in_features, 32)\n",
    "        self.l2 = nn.Linear(32, 1)\n",
    "    \n",
    "    def forward(self, x):\n",
    "        return self.l2(self.l1(x).relu())"
   ]
  },
  {
   "cell_type": "code",
   "execution_count": null,
   "metadata": {},
   "outputs": [],
   "source": [
    "x, y = load_boston(return_X_y=True)\n",
    "x, y = Tensor(x), Tensor(y).reshape(-1, 1)"
   ]
  },
  {
   "cell_type": "code",
   "execution_count": null,
   "metadata": {},
   "outputs": [],
   "source": [
    "net = Regressor(x.shape[1])\n",
    "optimizer = SGD(net.parameters(), lr=1e-6)\n",
    "\n",
    "errors = []\n",
    "iters = 1000\n",
    "\n",
    "for i in range(iters):\n",
    "    net.zero_grad()\n",
    "\n",
    "    loss = nn.MSELoss(net(x), y)\n",
    "    errors.append(loss.data.flatten())\n",
    "\n",
    "    loss.backward()\n",
    "    optimizer.step()\n",
    "\n",
    "print(np.sqrt(loss.data[0]))"
   ]
  },
  {
   "cell_type": "code",
   "execution_count": null,
   "metadata": {},
   "outputs": [],
   "source": [
    "plt.figure(figsize=(11, 9))\n",
    "plt.plot(np.arange(iters), np.sqrt(errors))\n",
    "plt.title(\"Regression Task\")\n",
    "plt.xlabel(\"Iteration\")\n",
    "plt.ylabel(\"RMSE\")"
   ]
  },
  {
   "cell_type": "code",
   "execution_count": 6,
   "metadata": {},
   "outputs": [],
   "source": [
    "class Classifier(nn.Module):\n",
    "    def __init__(self,\n",
    "                 in_features: int,\n",
    "                 out_features: int) -> None:\n",
    "        super().__init__()\n",
    "\n",
    "        self.l1 = nn.Linear(in_features, 32)\n",
    "        self.l2 = nn.Linear(32, out_features)\n",
    "    \n",
    "    def forward(self, x):\n",
    "        out = self.l1(x).relu()\n",
    "        return self.l2(out).softmax(axis=1)"
   ]
  },
  {
   "cell_type": "code",
   "execution_count": 7,
   "metadata": {},
   "outputs": [],
   "source": [
    "x, y = load_iris(return_X_y=True)\n",
    "x = (x - x.mean(axis=0)) / x.std(axis=0)\n",
    "x, y = Tensor(x), nn.one_hot(y)"
   ]
  },
  {
   "cell_type": "code",
   "execution_count": null,
   "metadata": {},
   "outputs": [],
   "source": [
    "net = Classifier(in_features=x.shape[1], out_features=3)\n",
    "optimizer = SGD(net.parameters(), lr=3e-4)\n",
    "\n",
    "errors = []\n",
    "iters = 10000\n",
    "\n",
    "for i in range(iters):\n",
    "    net.zero_grad()\n",
    "\n",
    "    loss = nn.CrossEntropyLoss(net(x), y)\n",
    "    errors.append(loss.data.flatten())\n",
    "\n",
    "    loss.backward()\n",
    "    optimizer.step()\n",
    "\n",
    "print(loss)"
   ]
  },
  {
   "cell_type": "code",
   "execution_count": null,
   "metadata": {},
   "outputs": [],
   "source": [
    "plt.figure(figsize=(11, 9))\n",
    "plt.plot(np.arange(iters), errors)\n",
    "plt.title(\"Classification Task\")\n",
    "plt.xlabel(\"Iteration\")\n",
    "plt.ylabel(\"CrossEntropyLoss\")"
   ]
  }
 ],
 "metadata": {
  "kernelspec": {
   "display_name": "base",
   "language": "python",
   "name": "python3"
  },
  "language_info": {
   "codemirror_mode": {
    "name": "ipython",
    "version": 3
   },
   "file_extension": ".py",
   "mimetype": "text/x-python",
   "name": "python",
   "nbconvert_exporter": "python",
   "pygments_lexer": "ipython3",
   "version": "3.9.15"
  },
  "orig_nbformat": 4
 },
 "nbformat": 4,
 "nbformat_minor": 2
}
